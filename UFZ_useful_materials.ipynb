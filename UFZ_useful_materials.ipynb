{
  "nbformat": 4,
  "nbformat_minor": 0,
  "metadata": {
    "colab": {
      "name": "UFZ_useful materials",
      "version": "0.3.2",
      "provenance": [],
      "collapsed_sections": [],
      "include_colab_link": true
    },
    "kernelspec": {
      "name": "python3",
      "display_name": "Python 3"
    }
  },
  "cells": [
    {
      "cell_type": "markdown",
      "metadata": {
        "id": "view-in-github",
        "colab_type": "text"
      },
      "source": [
        "<a href=\"https://colab.research.google.com/github/alanbseo/FlickrWorkshopUFZ/blob/master/UFZ_useful_materials.ipynb\" target=\"_parent\"><img src=\"https://colab.research.google.com/assets/colab-badge.svg\" alt=\"Open In Colab\"/></a>"
      ]
    },
    {
      "metadata": {
        "id": "Sdlu5dSqnb7G",
        "colab_type": "text"
      },
      "cell_type": "markdown",
      "source": [
        "Here's some useful data and links you may be interested in. \n",
        "\n",
        "\n",
        "Deep Learning in remote sensing \n",
        "\n",
        "Ball et al. 2017 (general remote sensing)\n",
        "\n",
        "https://www.spiedigitallibrary.org/journals/Journal-of-Applied-Remote-Sensing/volume-11/issue-4/042609/Comprehensive-survey-of-deep-learning-in-remote-sensing--theories/10.1117/1.JRS.11.042609.short\n",
        "\n",
        "Zhu et al. 2017 (nice summary)\n",
        "\n",
        "https://ieeexplore.ieee.org/document/8113128\n",
        "\n",
        "\n",
        "\n",
        "iNaturalist project \n",
        "\n",
        "https://www.inaturalist.org\n",
        "\n",
        "https://arxiv.org/abs/1707.06642\n",
        "\n",
        "https://www.semanticscholar.org/paper/The-iNaturalist-Challenge-2017-Dataset-Horn-Aodha/3dc522a6576c3475e4a166377cbbf4ba389c041f\n",
        "\n",
        "and their kaggle competition \n",
        "\n",
        "https://www.kaggle.com/c/inaturalist-2018/leaderboard\n",
        "\n",
        "\n",
        "eMammal (wild life)\n",
        "\n",
        "https://emammal.si.edu\n",
        "\n",
        "\n",
        "\n",
        "Data Descriptor | OPEN | Published: 09 June 2015\n",
        "\n",
        "Snapshot Serengeti, high-frequency annotated camera trap images of 40 mammalian species in an African savanna\n",
        "\n",
        "https://www.nature.com/articles/sdata201526\n",
        "\n"
      ]
    },
    {
      "metadata": {
        "id": "T--EyayIoms8",
        "colab_type": "code",
        "colab": {}
      },
      "cell_type": "code",
      "source": [
        ""
      ],
      "execution_count": 0,
      "outputs": []
    },
    {
      "metadata": {
        "id": "wtzpaC1NnYFr",
        "colab_type": "code",
        "colab": {}
      },
      "cell_type": "code",
      "source": [
        "\n",
        "\n",
        "  "
      ],
      "execution_count": 0,
      "outputs": []
    }
  ]
}