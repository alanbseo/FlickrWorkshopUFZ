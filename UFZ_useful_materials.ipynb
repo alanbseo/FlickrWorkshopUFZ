{
  "nbformat": 4,
  "nbformat_minor": 0,
  "metadata": {
    "colab": {
      "name": "UFZ_useful materials",
      "version": "0.3.2",
      "provenance": [],
      "include_colab_link": true
    },
    "kernelspec": {
      "name": "python3",
      "display_name": "Python 3"
    }
  },
  "cells": [
    {
      "cell_type": "markdown",
      "metadata": {
        "id": "view-in-github",
        "colab_type": "text"
      },
      "source": [
        "<a href=\"https://colab.research.google.com/github/alanbseo/FlickrWorkshopUFZ/blob/master/UFZ_useful_materials.ipynb\" target=\"_parent\"><img src=\"https://colab.research.google.com/assets/colab-badge.svg\" alt=\"Open In Colab\"/></a>"
      ]
    },
    {
      "metadata": {
        "id": "Sdlu5dSqnb7G",
        "colab_type": "text"
      },
      "cell_type": "markdown",
      "source": [
        "Here's some useful data and links you may be interested in. \n",
        "\n",
        "\n",
        "\n",
        "iNaturalist project \n",
        "https://www.inaturalist.org\n",
        "https://arxiv.org/abs/1707.06642\n",
        "https://www.semanticscholar.org/paper/The-iNaturalist-Challenge-2017-Dataset-Horn-Aodha/3dc522a6576c3475e4a166377cbbf4ba389c041f\n",
        "\n",
        "and its kaggle competition \n",
        "https://www.kaggle.com/c/inaturalist-2018/leaderboard\n",
        "\n",
        "\n",
        "eMamalls (wild life)\n",
        "https://emammal.si.edu\n",
        "\n",
        "\n"
      ]
    },
    {
      "metadata": {
        "id": "wtzpaC1NnYFr",
        "colab_type": "code",
        "colab": {}
      },
      "cell_type": "code",
      "source": [
        "\n",
        "\n",
        "  "
      ],
      "execution_count": 0,
      "outputs": []
    }
  ]
}