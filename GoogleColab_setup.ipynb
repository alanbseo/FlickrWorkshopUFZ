{
 "nbformat": 4,
 "nbformat_minor": 0,
 "metadata": {
  "colab": {
   "name": "GoogleColab_setup.ipynb",
   "version": "0.3.2",
   "provenance": [],
   "collapsed_sections": []
  },
  "kernelspec": {
   "name": "python3",
   "language": "python",
   "display_name": "Python 3"
  },
  "accelerator": "GPU",
  "pycharm": {
   "stem_cell": {
    "cell_type": "raw",
    "source": [],
    "metadata": {
     "collapsed": false
    }
   }
  }
 },
 "cells": [
  {
   "metadata": {
    "id": "Act7z6TWKa4s",
    "colab_type": "code",
    "colab": {},
    "pycharm": {}
   },
   "cell_type": "code",
   "source": [
    "!mkdir -p '/content/googledrive/My Drive/test'"
   ],
   "execution_count": 0,
   "outputs": []
  },
  {
   "metadata": {
    "id": "RKqeTCjbJ_KT",
    "colab_type": "code",
    "outputId": "c3d3d589-c927-4d4f-d900-c6b1d53b3acf",
    "executionInfo": {
     "status": "ok",
     "timestamp": 1548892071622,
     "user_tz": 480,
     "elapsed": 29757,
     "user": {
      "displayName": "Bumsuk Seo",
      "photoUrl": "",
      "userId": "16581242694089286841"
     }
    },
    "colab": {
     "base_uri": "https://localhost:8080/",
     "height": 191
    },
    "pycharm": {}
   },
   "cell_type": "code",
   "source": [
    "from google.colab import drive\n",
    "drive.mount('/content/googledrive')"
   ],
   "execution_count": 0,
   "outputs": [
    {
     "output_type": "stream",
     "text": [
      "Go to this URL in a browser: https://accounts.google.com/o/oauth2/auth?client_id=947318989803-6bn6qk8qdgf4n4g3pfee6491hc0brc4i.apps.googleusercontent.com&redirect_uri=urn%3Aietf%3Awg%3Aoauth%3A2.0%3Aoob&scope=email%20https%3A%2F%2Fwww.googleapis.com%2Fauth%2Fdocs.test%20https%3A%2F%2Fwww.googleapis.com%2Fauth%2Fdrive%20https%3A%2F%2Fwww.googleapis.com%2Fauth%2Fdrive.photos.readonly%20https%3A%2F%2Fwww.googleapis.com%2Fauth%2Fpeopleapi.readonly&response_type=code\n",
      "\n",
      "Enter your authorization code:\n",
      "··········\n",
      "Mounted at /content/googledrive\n"
     ],
     "name": "stdout"
    }
   ]
  },
  {
   "metadata": {
    "id": "i897Sx7KMA21",
    "colab_type": "code",
    "outputId": "68e1ddc4-fabd-43d4-c406-ccfe3b66dd37",
    "executionInfo": {
     "status": "ok",
     "timestamp": 1548892512817,
     "user_tz": 480,
     "elapsed": 1311,
     "user": {
      "displayName": "Bumsuk Seo",
      "photoUrl": "",
      "userId": "16581242694089286841"
     }
    },
    "colab": {
     "base_uri": "https://localhost:8080/",
     "height": 201
    },
    "pycharm": {}
   },
   "cell_type": "code",
   "source": [
    "!df -h"
   ],
   "execution_count": 0,
   "outputs": [
    {
     "output_type": "stream",
     "text": [
      "Filesystem      Size  Used Avail Use% Mounted on\n",
      "overlay          49G   19G   28G  41% /\n",
      "tmpfs           6.4G     0  6.4G   0% /dev\n",
      "tmpfs           6.4G     0  6.4G   0% /sys/fs/cgroup\n",
      "tmpfs           6.4G  4.0K  6.4G   1% /var/colab\n",
      "/dev/sda1        55G   20G   36G  36% /etc/hosts\n",
      "shm             6.0G     0  6.0G   0% /dev/shm\n",
      "tmpfs           6.4G     0  6.4G   0% /sys/firmware\n",
      "drive            17G  9.8G  7.3G  58% /content/googledrive\n"
     ],
     "name": "stdout"
    }
   ]
  },
  {
   "metadata": {
    "id": "q09liI8bMTwg",
    "colab_type": "code",
    "outputId": "fd1ac481-7bc4-4a50-df21-2a51270c907b",
    "executionInfo": {
     "status": "ok",
     "timestamp": 1548892588940,
     "user_tz": 480,
     "elapsed": 311,
     "user": {
      "displayName": "Bumsuk Seo",
      "photoUrl": "",
      "userId": "16581242694089286841"
     }
    },
    "colab": {
     "base_uri": "https://localhost:8080/",
     "height": 34
    },
    "pycharm": {}
   },
   "cell_type": "code",
   "source": [
    "import sys\n",
    "sys.version_info  "
   ],
   "execution_count": 0,
   "outputs": [
    {
     "output_type": "execute_result",
     "data": {
      "text/plain": [
       "sys.version_info(major=3, minor=6, micro=7, releaselevel='final', serial=0)"
      ]
     },
     "metadata": {
      "tags": []
     },
     "execution_count": 15
    }
   ]
  },
  {
   "metadata": {
    "id": "Xj6zZwnQKoN7",
    "colab_type": "code",
    "outputId": "03d75b08-03cd-4a27-a539-68e6cbc5973c",
    "executionInfo": {
     "status": "ok",
     "timestamp": 1548892153962,
     "user_tz": 480,
     "elapsed": 1991,
     "user": {
      "displayName": "Bumsuk Seo",
      "photoUrl": "",
      "userId": "16581242694089286841"
     }
    },
    "colab": {
     "base_uri": "https://localhost:8080/",
     "height": 65
    },
    "pycharm": {}
   },
   "cell_type": "code",
   "source": [
    "!ls /content/googledrive"
   ],
   "execution_count": 0,
   "outputs": [
    {
     "output_type": "stream",
     "text": [
      "'My Drive'\n"
     ],
     "name": "stdout"
    }
   ]
  },
  {
   "metadata": {
    "id": "kY-uyonyyhD_",
    "colab_type": "code",
    "outputId": "2b252297-61e9-4298-8a22-a68ca7f64ba9",
    "executionInfo": {
     "status": "ok",
     "timestamp": 1553080216752,
     "user_tz": -60,
     "elapsed": 3771,
     "user": {
      "displayName": "Bumsuk Seo",
      "photoUrl": "",
      "userId": "16581242694089286841"
     }
    },
    "colab": {
     "base_uri": "https://localhost:8080/",
     "height": 63
    },
    "pycharm": {}
   },
   "cell_type": "code",
   "source": [
    "!pip3 install pycocotools\n"
   ],
   "execution_count": 0,
   "outputs": [
    {
     "output_type": "stream",
     "text": [
      "Requirement already satisfied: pycocotools in /usr/local/lib/python3.6/dist-packages (2.0.0)\n"
     ],
     "name": "stdout"
    }
   ]
  },
  {
   "metadata": {
    "id": "jOgAJUBZy0KG",
    "colab_type": "code",
    "outputId": "d2afe474-0794-4781-c2c5-372b27bdfa08",
    "executionInfo": {
     "status": "ok",
     "timestamp": 1553080255531,
     "user_tz": -60,
     "elapsed": 4128,
     "user": {
      "displayName": "Bumsuk Seo",
      "photoUrl": "",
      "userId": "16581242694089286841"
     }
    },
    "colab": {
     "base_uri": "https://localhost:8080/",
     "height": 97
    },
    "pycharm": {}
   },
   "cell_type": "code",
   "source": [
    "!pip3 install h5py\n"
   ],
   "execution_count": 0,
   "outputs": [
    {
     "output_type": "stream",
     "text": [
      "Requirement already satisfied: h5py in /usr/local/lib/python3.6/dist-packages (2.8.0)\n",
      "Requirement already satisfied: numpy>=1.7 in /usr/local/lib/python3.6/dist-packages (from h5py) (1.14.6)\n",
      "Requirement already satisfied: six in /usr/local/lib/python3.6/dist-packages (from h5py) (1.11.0)\n"
     ],
     "name": "stdout"
    }
   ]
  },
  {
   "metadata": {
    "id": "bFV16WKlzCLG",
    "colab_type": "code",
    "outputId": "329c55c5-5274-45cf-b454-c483f9de87fd",
    "executionInfo": {
     "status": "ok",
     "timestamp": 1553190873824,
     "user_tz": -60,
     "elapsed": 114146,
     "user": {
      "displayName": "Bumsuk Seo",
      "photoUrl": "",
      "userId": "16581242694089286841"
     }
    },
    "colab": {
     "base_uri": "https://localhost:8080/",
     "height": 220
    },
    "pycharm": {}
   },
   "cell_type": "code",
   "source": [
    "import imgaug\n",
    "import os\n",
    "import sys\n",
    "import random\n",
    "import math\n",
    "import numpy as np\n",
    "import skimage.io\n",
    "import matplotlib\n",
    "import matplotlib.pyplot as plt\n",
    "\n",
    "\n",
    "\n",
    "print(os.path.abspath(\".\"))\n",
    "print(os.getcwd())\n",
    "print(os.listdir())\n",
    "\n",
    "from google.colab import drive\n",
    "drive.mount('/content/googledrive')\n",
    "\n",
    "print(os.path.abspath(\"googledrive\"))\n",
    "\n",
    "# print(os.path.abspath(\".\"))\n",
    "# print(os.getcwd())\n",
    "# print(os.listdir())\n",
    "\n",
    "\n",
    "from google.colab import files\n",
    "uploaded = files.upload() # upload local files\n",
    "\n",
    "for fn in uploaded.keys(): # print uploaded files\n",
    "    print('User uploaded file \"{name}\" with length {length} bytes'.format(\n",
    "        name=fn, length=len(uploaded[fn])))\n",
    "\n",
    "\n",
    "# tensorflow version\n",
    "\n",
    "\n",
    "import tensorflow as tf\n",
    "\n",
    "import tensorboardcolab as tb\n",
    "\n",
    "tbc = tb.TensorBoardColab()\n",
    "tensorboard = tb.TensorBoardColabCallback(tbc)\n"
   ],
   "execution_count": 0,
   "outputs": [
    {
     "output_type": "stream",
     "text": [
      "/content\n",
      "/content\n",
      "['.config', 'sample_data']\n",
      "Go to this URL in a browser: https://accounts.google.com/o/oauth2/auth?client_id=947318989803-6bn6qk8qdgf4n4g3pfee6491hc0brc4i.apps.googleusercontent.com&redirect_uri=urn%3Aietf%3Awg%3Aoauth%3A2.0%3Aoob&scope=email%20https%3A%2F%2Fwww.googleapis.com%2Fauth%2Fdocs.test%20https%3A%2F%2Fwww.googleapis.com%2Fauth%2Fdrive%20https%3A%2F%2Fwww.googleapis.com%2Fauth%2Fdrive.photos.readonly%20https%3A%2F%2Fwww.googleapis.com%2Fauth%2Fpeopleapi.readonly&response_type=code\n",
      "\n",
      "Enter your authorization code:\n",
      "··········\n",
      "Mounted at /content/googledrive\n",
      "/content/googledrive\n"
     ],
     "name": "stdout"
    }
   ]
  },
  {
   "metadata": {
    "id": "EF5FkeCzZNXz",
    "colab_type": "code",
    "outputId": "799e11b6-68a6-48bc-f794-fc70c85411f1",
    "executionInfo": {
     "status": "ok",
     "timestamp": 1553190958203,
     "user_tz": -60,
     "elapsed": 1734,
     "user": {
      "displayName": "Bumsuk Seo",
      "photoUrl": "",
      "userId": "16581242694089286841"
     }
    },
    "colab": {
     "base_uri": "https://localhost:8080/",
     "height": 34
    },
    "pycharm": {}
   },
   "cell_type": "code",
   "source": [
    "tf.__version__"
   ],
   "execution_count": 0,
   "outputs": [
    {
     "output_type": "execute_result",
     "data": {
      "text/plain": [
       "'1.13.1'"
      ]
     },
     "metadata": {
      "tags": []
     },
     "execution_count": 4
    }
   ]
  },
  {
   "metadata": {
    "id": "Bx23LoVggf5l",
    "colab_type": "code",
    "colab": {
     "base_uri": "https://localhost:8080/",
     "height": 114
    },
    "outputId": "436ceddc-6d67-4901-bcad-6d43b6278251",
    "executionInfo": {
     "status": "ok",
     "timestamp": 1553226683292,
     "user_tz": -60,
     "elapsed": 6458,
     "user": {
      "displayName": "Bumsuk Seo",
      "photoUrl": "",
      "userId": "16581242694089286841"
     }
    },
    "pycharm": {}
   },
   "cell_type": "code",
   "source": [
    "%ls /content\n",
    "%mkdir /content/FlickrWorkshopData\n",
    "%mkdir /content/FlickrWorkshopData\n",
    "\n",
    "%ls /content/FlickrWorkshopData\n"
   ],
   "execution_count": 11,
   "outputs": [
    {
     "output_type": "stream",
     "text": [
      "\u001b[0m\u001b[01;34mFlickrWorkshopData\u001b[0m/  \u001b[01;34msample_data\u001b[0m/\n",
      "mkdir: cannot create directory ‘/content/FlickrWorkshopData’: File exists\n",
      "mkdir: cannot create directory ‘/content/FlickrWorkshopData’: File exists\n",
      "GoogleColab_setup.ipynb  \u001b[0m\u001b[01;34mSaxony_Flickr_Selection\u001b[0m/  UFZ_demo_M_RCNN_ver1.ipynb\n"
     ],
     "name": "stdout"
    }
   ]
  },
  {
   "metadata": {
    "id": "ZnK_spZPgk7z",
    "colab_type": "code",
    "colab": {
     "base_uri": "https://localhost:8080/",
     "height": 165
    },
    "outputId": "82eda172-3534-4189-a6f2-f17537a88277",
    "executionInfo": {
     "status": "ok",
     "timestamp": 1553226572411,
     "user_tz": -60,
     "elapsed": 8301,
     "user": {
      "displayName": "Bumsuk Seo",
      "photoUrl": "",
      "userId": "16581242694089286841"
     }
    },
    "pycharm": {}
   },
   "cell_type": "code",
   "source": [
    "!git clone https://github.com/alanbseo/FlickrWorkshopUFZ.git /content/FlickrWorkshopData"
   ],
   "execution_count": 9,
   "outputs": [
    {
     "output_type": "stream",
     "text": [
      "Cloning into '/content/FlickrWorkshopData'...\n",
      "remote: Enumerating objects: 133, done.\u001b[K\n",
      "remote: Counting objects: 100% (133/133), done.\u001b[K\n",
      "remote: Compressing objects: 100% (132/132), done.\u001b[K\n",
      "remote: Total 133 (delta 1), reused 133 (delta 1), pack-reused 0\u001b[K\n",
      "Receiving objects: 100% (133/133), 20.12 MiB | 35.53 MiB/s, done.\n",
      "Resolving deltas: 100% (1/1), done.\n"
     ],
     "name": "stdout"
    }
   ]
  },
  {
   "metadata": {
    "id": "nq4bTLsdhDR_",
    "colab_type": "code",
    "colab": {
     "base_uri": "https://localhost:8080/",
     "height": 131
    },
    "outputId": "d96bc0c6-251f-4f69-8577-9c3c569ef656",
    "executionInfo": {
     "status": "ok",
     "timestamp": 1553226739919,
     "user_tz": -60,
     "elapsed": 8719,
     "user": {
      "displayName": "Bumsuk Seo",
      "photoUrl": "",
      "userId": "16581242694089286841"
     }
    },
    "pycharm": {}
   },
   "cell_type": "code",
   "source": [
    "!git clone https://github.com/matterport/Mask_RCNN.git /content/Mask_RCNN"
   ],
   "execution_count": 13,
   "outputs": [
    {
     "output_type": "stream",
     "text": [
      "Cloning into '/content/Mask_RCNN'...\n",
      "remote: Enumerating objects: 952, done.\u001b[K\n",
      "remote: Total 952 (delta 0), reused 0 (delta 0), pack-reused 952\u001b[K\n",
      "Receiving objects: 100% (952/952), 139.82 MiB | 33.15 MiB/s, done.\n",
      "Resolving deltas: 100% (540/540), done.\n"
     ],
     "name": "stdout"
    }
   ]
  }
 ]
}